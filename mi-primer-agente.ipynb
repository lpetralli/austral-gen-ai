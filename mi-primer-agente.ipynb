{
 "cells": [
  {
   "cell_type": "code",
   "execution_count": 1,
   "metadata": {},
   "outputs": [],
   "source": [
    "from langchain_groq import ChatGroq\n",
    "from typing import Annotated\n",
    "from typing_extensions import TypedDict\n",
    "from langgraph.graph import StateGraph, START, END\n",
    "from langgraph.graph.message import add_messages\n",
    "from langchain.schema import HumanMessage, AIMessage, SystemMessage, FunctionMessage"
   ]
  },
  {
   "cell_type": "code",
   "execution_count": 2,
   "metadata": {},
   "outputs": [],
   "source": [
    "llm = ChatGroq(temperature=0, model_name=\"llama3-70b-8192\")"
   ]
  },
  {
   "cell_type": "code",
   "execution_count": 3,
   "metadata": {},
   "outputs": [],
   "source": [
    "class State(TypedDict):\n",
    "    messages: Annotated[list, add_messages]"
   ]
  },
  {
   "cell_type": "code",
   "execution_count": 21,
   "metadata": {},
   "outputs": [],
   "source": [
    "system_prompt_template = \"\"\"Eres un asistente útil y servicial. \n",
    "    Tu objetivo es proporcionar información precisa y ayudar en lo que sea necesario. \n",
    "    Si no tienes la información solicitada, indícalo claramente y ofrece alternativas si es posible.\"\"\""
   ]
  },
  {
   "cell_type": "code",
   "execution_count": 22,
   "metadata": {},
   "outputs": [],
   "source": [
    "def chatbot(state: State):\n",
    "    system_prompt = system_prompt_template\n",
    "    \n",
    "    messages = [SystemMessage(content=system_prompt)] + state[\"messages\"]\n",
    "    response = llm.invoke(messages)\n",
    "    return {\"messages\": [response]}"
   ]
  },
  {
   "cell_type": "code",
   "execution_count": 23,
   "metadata": {},
   "outputs": [],
   "source": [
    "graph_builder = StateGraph(State)\n",
    "\n",
    "graph_builder.add_node(\"chatbot\", chatbot)\n",
    "\n",
    "graph_builder.add_edge(START, \"chatbot\")\n",
    "\n",
    "graph_builder.add_edge(\"chatbot\", END)\n",
    "\n",
    "graph = graph_builder.compile()"
   ]
  },
  {
   "cell_type": "code",
   "execution_count": 8,
   "metadata": {},
   "outputs": [
    {
     "data": {
      "image/jpeg": "[encoded data removed]",
      "text/plain": [
       "<IPython.core.display.Image object>"
      ]
     },
     "metadata": {},
     "output_type": "display_data"
    }
   ],
   "source": [
    "from IPython.display import Image, display\n",
    "\n",
    "try:\n",
    "    display(Image(graph.get_graph().draw_mermaid_png()))\n",
    "except Exception:\n",
    "    # This requires some extra dependencies and is optional\n",
    "    pass"
   ]
  },
  {
   "cell_type": "markdown",
   "metadata": {},
   "source": [
    "### Correr el chatbot"
   ]
  },
  {
   "cell_type": "code",
   "execution_count": 25,
   "metadata": {},
   "outputs": [],
   "source": [
    "def add_message(message_content: str, is_human: bool, previous_state: State = None) -> State:\n",
    "    if previous_state is None:\n",
    "        previous_state = {\"messages\": []}\n",
    "    new_message = HumanMessage(content=message_content) if is_human else AIMessage(content=message_content)\n",
    "    return {\n",
    "        \"messages\": previous_state[\"messages\"] + [new_message]\n",
    "    }"
   ]
  },
  {
   "cell_type": "code",
   "execution_count": 40,
   "metadata": {},
   "outputs": [],
   "source": [
    "result = {'messages': []}"
   ]
  },
  {
   "cell_type": "code",
   "execution_count": 45,
   "metadata": {},
   "outputs": [],
   "source": [
    "state = add_message(\"Y que podes hacer?\", is_human=True, previous_state=result)"
   ]
  },
  {
   "cell_type": "code",
   "execution_count": 46,
   "metadata": {},
   "outputs": [
    {
     "data": {
      "text/plain": [
       "{'messages': [HumanMessage(content='Hola, ¿cómo estás?', id='a9cb4cbf-217d-49c6-a5df-baef4193b099'),\n",
       "  AIMessage(content='Hola! Como soy una inteligencia artificial, no tengo sentimientos o emociones como los seres humanos, por lo que no estoy realmente \"bien\" o \"mal\". Sin embargo, estoy funcionando correctamente y lista para ayudarte en lo que necesites. ¿En qué puedo asistirte hoy?', response_metadata={'token_usage': {'completion_tokens': 66, 'prompt_tokens': 78, 'total_tokens': 144, 'completion_time': 0.202436942, 'prompt_time': 0.004070722, 'queue_time': 0.009228557000000002, 'total_time': 0.206507664}, 'model_name': 'llama3-70b-8192', 'system_fingerprint': 'fp_2f30b0b571', 'finish_reason': 'stop', 'logprobs': None}, id='run-a7c86041-9433-4906-9760-b4352fc83c71-0', usage_metadata={'input_tokens': 78, 'output_tokens': 66, 'total_tokens': 144}),\n",
       "  HumanMessage(content='Y que podes hacer?')]}"
      ]
     },
     "execution_count": 46,
     "metadata": {},
     "output_type": "execute_result"
    }
   ],
   "source": [
    "state"
   ]
  },
  {
   "cell_type": "code",
   "execution_count": 47,
   "metadata": {},
   "outputs": [
    {
     "data": {
      "text/plain": [
       "{'messages': [HumanMessage(content='Hola, ¿cómo estás?', id='a9cb4cbf-217d-49c6-a5df-baef4193b099'),\n",
       "  AIMessage(content='Hola! Como soy una inteligencia artificial, no tengo sentimientos o emociones como los seres humanos, por lo que no estoy realmente \"bien\" o \"mal\". Sin embargo, estoy funcionando correctamente y lista para ayudarte en lo que necesites. ¿En qué puedo asistirte hoy?', response_metadata={'token_usage': {'completion_tokens': 66, 'prompt_tokens': 78, 'total_tokens': 144, 'completion_time': 0.202436942, 'prompt_time': 0.004070722, 'queue_time': 0.009228557000000002, 'total_time': 0.206507664}, 'model_name': 'llama3-70b-8192', 'system_fingerprint': 'fp_2f30b0b571', 'finish_reason': 'stop', 'logprobs': None}, id='run-a7c86041-9433-4906-9760-b4352fc83c71-0', usage_metadata={'input_tokens': 78, 'output_tokens': 66, 'total_tokens': 144}),\n",
       "  HumanMessage(content='Y que podes hacer?', id='d4921bdc-5ef5-4e79-9e95-619b4e2785c1'),\n",
       "  AIMessage(content='Excelente pregunta! Como asistente, puedo hacer muchas cosas para ayudarte. Aquí te presento algunas de mis habilidades:\\n\\n1. **Responder preguntas**: Puedo proporcionar información sobre una amplia variedad de temas, desde historia y ciencia hasta tecnología y entretenimiento.\\n2. **Generar texto**: Puedo crear texto sobre un tema específico o responder a preguntas en forma de párrafos o incluso artículos cortos.\\n3. **Traducir texto**: Puedo traducir texto de un idioma a otro, incluyendo español, inglés, francés, alemán, italiano, portugués, chino, japonés y muchos más.\\n4. **Realizar cálculos**: Puedo realizar cálculos matemáticos simples y complejos, desde sumas y restas hasta cálculos de física y matemáticas avanzadas.\\n5. **Ofrecer sugerencias**: Puedo sugerir ideas, soluciones o alternativas para problemas o proyectos que estés desarrollando.\\n6. **Generar ideas**: Puedo generar ideas para escritos creativos, como historias, poemas o incluso títulos de libros.\\n7. **Ayudar con tareas**: Puedo ayudarte a organizar tareas, crear listas de cosas por hacer y establecer prioridades.\\n8. **Practicar idiomas**: Puedo ayudarte a practicar un idioma extranjero, respondiendo a preguntas o manteniendo conversaciones en el idioma que estés estudiando.\\n9. **Jugar juegos**: Puedo jugar juegos de palabras, como adivinanzas o juegos de trivia, para divertirte y ejercitar tu mente.\\n10. **Mucho más**: Si tienes una tarea o pregunta específica, no dudes en preguntar. Si no puedo hacer algo, te lo haré saber y trataré de encontrar una alternativa.\\n\\n¿Qué necesitas ayuda hoy?', response_metadata={'token_usage': {'completion_tokens': 429, 'prompt_tokens': 159, 'total_tokens': 588, 'completion_time': 1.344600304, 'prompt_time': 0.011948183, 'queue_time': 0.014815174000000002, 'total_time': 1.356548487}, 'model_name': 'llama3-70b-8192', 'system_fingerprint': 'fp_753a4aecf6', 'finish_reason': 'stop', 'logprobs': None}, id='run-c9ae03f7-7b6f-48e3-9370-24a5de214b52-0', usage_metadata={'input_tokens': 159, 'output_tokens': 429, 'total_tokens': 588})]}"
      ]
     },
     "execution_count": 47,
     "metadata": {},
     "output_type": "execute_result"
    }
   ],
   "source": [
    "result = graph.invoke(state)\n",
    "result"
   ]
  }
 ],
 "metadata": {
  "kernelspec": {
   "display_name": "austral",
   "language": "python",
   "name": "python3"
  },
  "language_info": {
   "codemirror_mode": {
    "name": "ipython",
    "version": 3
   },
   "file_extension": ".py",
   "mimetype": "text/x-python",
   "name": "python",
   "nbconvert_exporter": "python",
   "pygments_lexer": "ipython3",
   "version": "3.12.6"
  }
 },
 "nbformat": 4,
 "nbformat_minor": 2
}
