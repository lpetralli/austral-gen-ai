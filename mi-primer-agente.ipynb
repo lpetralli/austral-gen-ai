{
 "cells": [
  {
   "cell_type": "code",
   "execution_count": 1,
   "metadata": {},
   "outputs": [],
   "source": [
    "from langchain_groq import ChatGroq\n",
    "from typing import Annotated\n",
    "from typing_extensions import TypedDict\n",
    "from langgraph.graph import StateGraph, START, END\n",
    "from langgraph.graph.message import add_messages\n",
    "from langchain.schema import HumanMessage, AIMessage, SystemMessage, FunctionMessage"
   ]
  },
  {
   "cell_type": "code",
   "execution_count": 7,
   "metadata": {},
   "outputs": [],
   "source": [
    "llm = ChatGroq(temperature=0, model_name=\"llama3-70b-8192\")"
   ]
  },
  {
   "cell_type": "code",
   "execution_count": 2,
   "metadata": {},
   "outputs": [],
   "source": [
    "class State(TypedDict):\n",
    "    # Messages have the type \"list\". The `add_messages` function\n",
    "    # in the annotation defines how this state key should be updated\n",
    "    # (in this case, it appends messages to the list, rather than overwriting them)\n",
    "    messages: Annotated[list, add_messages]"
   ]
  },
  {
   "cell_type": "code",
   "execution_count": 8,
   "metadata": {},
   "outputs": [],
   "source": [
    "def chatbot(state: State):\n",
    "    return {\"messages\": [llm.invoke(state[\"messages\"])]}"
   ]
  },
  {
   "cell_type": "code",
   "execution_count": 4,
   "metadata": {},
   "outputs": [],
   "source": [
    "graph_builder = StateGraph(State)\n",
    "\n",
    "graph_builder.add_node(\"chatbot\", chatbot)\n",
    "\n",
    "graph_builder.add_edge(START, \"chatbot\")\n",
    "\n",
    "graph_builder.add_edge(\"chatbot\", END)\n",
    "\n",
    "graph = graph_builder.compile()"
   ]
  },
  {
   "cell_type": "code",
   "execution_count": 5,
   "metadata": {},
   "outputs": [
    {
     "data": {
      "image/jpeg": "[encoded data removed]",
      "text/plain": [
       "<IPython.core.display.Image object>"
      ]
     },
     "metadata": {},
     "output_type": "display_data"
    }
   ],
   "source": [
    "from IPython.display import Image, display\n",
    "\n",
    "try:\n",
    "    display(Image(graph.get_graph().draw_mermaid_png()))\n",
    "except Exception:\n",
    "    # This requires some extra dependencies and is optional\n",
    "    pass"
   ]
  },
  {
   "cell_type": "code",
   "execution_count": 11,
   "metadata": {},
   "outputs": [],
   "source": [
    "def print_last_ai_message(state):\n",
    "    messages = state['messages']\n",
    "    for message in reversed(messages):\n",
    "        if isinstance(message, AIMessage):\n",
    "            print(\"AI Response:\")\n",
    "            print(\"-\" * 40)\n",
    "            print(message.content)\n",
    "            print(\"-\" * 40)\n",
    "            break\n",
    "    else:\n",
    "        print(\"No AI message found in the state.\")\n"
   ]
  },
  {
   "cell_type": "code",
   "execution_count": 12,
   "metadata": {},
   "outputs": [
    {
     "name": "stdout",
     "output_type": "stream",
     "text": [
      "AI Response:\n",
      "----------------------------------------\n",
      "I'm a large language model, I don't have have real-time access to current or recent sports scores. However, I can suggest some ways for you to find the information you're looking for:\n",
      "\n",
      "1. Check online sports websites: Websites like ESPN, Fox Sports, or Goal.com often provide updates on recent matches, including scores and summaries.\n",
      "2. Visit the official Argentine Football Association website: The official website of the Argentine Football Association (AFA) may have a section dedicated to the latest matches and scores of the Argentine league.\n",
      "3. Look for sports news websites or apps: Websites like Sofascore, Flashscore, or sports news apps like Forza Football or OneFootball may have the information you're looking for.\n",
      "4. Check social media: Follow Argentine football clubs or sports journalists on social media platforms like Twitter or Instagram, where they often share updates on recent matches.\n",
      "\n",
      "If you're looking for a specific league, such as the Argentine Primera División, you can try searching for \"Argentine Primera División latest results\" or \"Argentine Primera División recent matches\" to find the information you need.\n",
      "----------------------------------------\n"
     ]
    }
   ],
   "source": [
    "initial_state = {\"messages\": [HumanMessage(content='Do you know the last 5 matches of the argentinian league?')]}\n",
    "result = graph.invoke(initial_state)\n",
    "print_last_ai_message(result)"
   ]
  }
 ],
 "metadata": {
  "kernelspec": {
   "display_name": "austral",
   "language": "python",
   "name": "python3"
  },
  "language_info": {
   "codemirror_mode": {
    "name": "ipython",
    "version": 3
   },
   "file_extension": ".py",
   "mimetype": "text/x-python",
   "name": "python",
   "nbconvert_exporter": "python",
   "pygments_lexer": "ipython3",
   "version": "3.12.4"
  }
 },
 "nbformat": 4,
 "nbformat_minor": 2
}
